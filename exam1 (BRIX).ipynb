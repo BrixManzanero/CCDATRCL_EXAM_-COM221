{
  "cells": [
    {
      "cell_type": "markdown",
      "metadata": {
        "id": "yaz2B0KGFehP"
      },
      "source": [
        "# Midterm Exam 💛💙"
      ]
    },
    {
      "cell_type": "markdown",
      "metadata": {
        "id": "_DmK1ONEFehQ"
      },
      "source": [
        "**Instructions** ❗️❗️\n",
        "\n",
        "❌ Do not remove or modify the notebook **sections**, **subsections**, **exam questions** or **any text** in this python notebook\n",
        "\n",
        "✔️ Put your answer in the designated cells below each question"
      ]
    },
    {
      "cell_type": "markdown",
      "metadata": {
        "id": "TMCAXKWCFehR"
      },
      "source": [
        "## Search"
      ]
    },
    {
      "cell_type": "code",
      "execution_count": 1458,
      "metadata": {
        "id": "Fy8nEBRRFehR"
      },
      "outputs": [],
      "source": [
        "def linearSearch(my_list, number):\n",
        "\n",
        "    index = 0\n",
        "\n",
        "    for i in my_list:\n",
        "\n",
        "        if my_list[index] == number:\n",
        "            return index\n",
        "\n",
        "        index = index + 1\n",
        "\n",
        "    return -1"
      ]
    },
    {
      "cell_type": "markdown",
      "metadata": {
        "id": "AjAevpueFehS"
      },
      "source": [
        "1. Using **linear search**, write a `findLargestIncrease()` function to find the largest increase in value between two adjacent numbers in your student number `(10 points)`\n",
        "\n",
        "    **Example:**\n",
        "\n",
        "    student_number = [2,0,2,2,6,2,5,1,9,3]\n",
        "\n",
        "    **Expected Output:**\n",
        "\n",
        "    findLargestIncrease(student_number)\n",
        "\n",
        "    Output: Between 1 and 9\n",
        "\n",
        "    **Explanation:**\n",
        "\n",
        "    From this student_number, the largest increase happened from number 1 to number 9"
      ]
    },
    {
      "cell_type": "code",
      "execution_count": 1459,
      "metadata": {
        "id": "JE8nEfyJFehS"
      },
      "outputs": [],
      "source": [
        "# put your answer here\n",
        "\n",
        "def findLargestIncrease(student_number):\n",
        "    if len(student_number) < 2:\n",
        "        return \"Not enough elements to find an increase.\"\n",
        "\n",
        "    largest_increase = 0\n",
        "    start_index = -1\n",
        "    end_index = -1\n",
        "\n",
        "    for i in range(len(student_number) - 1):\n",
        "        increase = student_number[i + 1] - student_number[i]\n",
        "        if increase > largest_increase:\n",
        "            largest_increase = increase\n",
        "            start_index = i\n",
        "            end_index = i + 1\n",
        "\n",
        "    if largest_increase > 0:\n",
        "        return f\"Between {student_number[start_index]} and {student_number[end_index]}\"\n",
        "    else:\n",
        "        return\n",
        "\n"
      ]
    },
    {
      "cell_type": "code",
      "execution_count": 1460,
      "metadata": {},
      "outputs": [
        {
          "name": "stdout",
          "output_type": "stream",
          "text": [
            "The Output: Between 0 and 3\n"
          ]
        }
      ],
      "source": [
        "student_number = [2, 0, 2, 2, 1, 0, 3, 2, 5, 6]\n",
        "result = findLargestIncrease(student_number)\n",
        "print(\"The Output:\", result)"
      ]
    },
    {
      "cell_type": "markdown",
      "metadata": {
        "id": "nMyr1fNyFehS"
      },
      "source": [
        "2. Using **linear search**, write a `findLargestDecrease()` function to find the largest decrease in value between two adjacent numbers in your student number `(10 points)`\n",
        "\n",
        "    **Example:**\n",
        "\n",
        "    student_number = [2,0,2,2,6,2,5,1,9,3]\n",
        "\n",
        "    **Expected Output:**\n",
        "\n",
        "    findLargestDecrease(student_number)\n",
        "\n",
        "    Output: Between 9 and 3\n",
        "\n",
        "    **Explanation:**\n",
        "\n",
        "    From this student_number, the largest decrease happened from number 9 to number 3"
      ]
    },
    {
      "cell_type": "code",
      "execution_count": 1461,
      "metadata": {
        "id": "bfMfQVbVFehS"
      },
      "outputs": [],
      "source": [
        "# put your answer here\n",
        "def findLargestDecrease(student_number):\n",
        "   largest_decrease = None\n",
        "   start_index = None\n",
        "   end_index = None\n",
        "\n",
        "   for i in range(len(student_number) - 1):\n",
        "      decrease = student_number[i] - student_number[i + 1]\n",
        "      if largest_decrease is None or decrease > largest_decrease:\n",
        "         largest_decrease = decrease\n",
        "         start_index = i\n",
        "         end_index = i + 1\n",
        "\n",
        "      if largest_decrease is not None:\n",
        "        return f\"Between {student_number[start_index]} and {student_number[end_index]}\"\n",
        "      else:\n",
        "        return \"No decrease found\"\n"
      ]
    },
    {
      "cell_type": "code",
      "execution_count": 1462,
      "metadata": {},
      "outputs": [],
      "source": [
        "student_number = [2, 0, 2, 2, 1, 0, 3, 2, 5, 6]\n",
        "result = findLargestDecrease(student_number)"
      ]
    },
    {
      "cell_type": "code",
      "execution_count": 1463,
      "metadata": {},
      "outputs": [
        {
          "name": "stdout",
          "output_type": "stream",
          "text": [
            "The output: Between 2 and 0\n"
          ]
        }
      ],
      "source": [
        "print(\"The output:\", result)"
      ]
    },
    {
      "cell_type": "markdown",
      "metadata": {
        "id": "NtKSQn9QFehS"
      },
      "source": [
        "## Linked List"
      ]
    },
    {
      "cell_type": "code",
      "execution_count": 1464,
      "metadata": {
        "id": "0HP5zyJcFehS"
      },
      "outputs": [],
      "source": [
        "class Node:\n",
        "\n",
        "    def __init__(self, data):\n",
        "        self.data = data\n",
        "        self.next = None  # null"
      ]
    },
    {
      "cell_type": "code",
      "execution_count": 1465,
      "metadata": {
        "id": "A-8Uefe7FehS"
      },
      "outputs": [],
      "source": [
        "class LinkedList:\n",
        "\n",
        "    def __init__(self):\n",
        "        self.head = None\n",
        "\n",
        "    def traverse(self, node):\n",
        "        while node:\n",
        "            print(node.data, end=\" -> \")\n",
        "            node = node.next"
      ]
    },
    {
      "cell_type": "markdown",
      "metadata": {
        "id": "uPgIJJuSFehT"
      },
      "source": [
        "**Instructions** ❗️❗️\n",
        "\n",
        "Use the pre-defined linked list class/functions to create a linked list"
      ]
    },
    {
      "cell_type": "markdown",
      "metadata": {
        "id": "WIwpW7Q2FehT"
      },
      "source": [
        "1. Create a Singly linked list named **num_list** and print all of its elements. `(5 points)`\n",
        "\n",
        "- **num_list** should contain all digits of your student number.\n",
        "\n",
        "    **Expected Output:**\n",
        "\n",
        "    print(num_list)\n",
        "\n",
        "    [2, 0, 2, 2, 1, 2, 3, 4, 5, 6]"
      ]
    },
    {
      "cell_type": "code",
      "execution_count": 1466,
      "metadata": {},
      "outputs": [],
      "source": [
        "# put your answer here\n",
        "num_list = []"
      ]
    },
    {
      "cell_type": "code",
      "execution_count": 1467,
      "metadata": {},
      "outputs": [],
      "source": [
        "student_number = \"2022103256\""
      ]
    },
    {
      "cell_type": "code",
      "execution_count": 1468,
      "metadata": {},
      "outputs": [],
      "source": [
        "for digit in student_number:\n",
        "    num_list.append(int(digit))"
      ]
    },
    {
      "cell_type": "code",
      "execution_count": 1469,
      "metadata": {},
      "outputs": [
        {
          "name": "stdout",
          "output_type": "stream",
          "text": [
            "Output: [2, 0, 2, 2, 1, 0, 3, 2, 5, 6]\n"
          ]
        }
      ],
      "source": [
        "print(\"Output:\", num_list)"
      ]
    },
    {
      "cell_type": "markdown",
      "metadata": {
        "id": "dqA2UYrYFehT"
      },
      "source": [
        "2. Write a `hasPrime()` function to test whether a prime number is in the last six digits of **num_list**. `(5 points)`\n",
        "\n",
        "- If a prime number is in the last six digits of **num_list**, the method should return **true**\n",
        "\n",
        "- If a prime number is not in the last six digits of **num_list**, the method should return **false**\n",
        "\n",
        "    **Expected Output:**\n",
        "\n",
        "    hasPrime(num_list)\n",
        "\n",
        "    True"
      ]
    },
    {
      "cell_type": "code",
      "execution_count": 1470,
      "metadata": {
        "id": "GYwsQNz5FehT"
      },
      "outputs": [],
      "source": [
        "# put your answer here\n",
        "def is_prime(number):\n",
        "    if number <= 1:\n",
        "        return False\n",
        "    if number <= 3:\n",
        "        return True\n",
        "    if number % 2 == 0 or number % 3 == 0:\n",
        "        return False\n",
        "    i = 5\n",
        "    while i * i <= number:\n",
        "        if number % i == 0 or number % (i + 2) == 0:\n",
        "            return False\n",
        "        i += 6\n",
        "    return True\n",
        "\n",
        "def hasPrime(num_list):\n",
        "    for num in reversed(num_list):\n",
        "        if is_prime(num):\n",
        "            return True\n",
        "        if len(str(num)) <= 6:\n",
        "            break\n",
        "    return False"
      ]
    },
    {
      "cell_type": "code",
      "execution_count": 1471,
      "metadata": {},
      "outputs": [],
      "source": [
        "num_list = [2022103256]"
      ]
    },
    {
      "cell_type": "code",
      "execution_count": 1472,
      "metadata": {},
      "outputs": [],
      "source": [
        "result = hasPrime(num_list)"
      ]
    },
    {
      "cell_type": "code",
      "execution_count": 1473,
      "metadata": {},
      "outputs": [
        {
          "name": "stdout",
          "output_type": "stream",
          "text": [
            "Output: False\n"
          ]
        }
      ],
      "source": [
        "print(\"Output:\", result)"
      ]
    },
    {
      "cell_type": "markdown",
      "metadata": {
        "id": "5Qb0BOiwFehT"
      },
      "source": [
        "3. Write a `removeZeroes()` function to remove all occurrences of zeroes in **num_list**. `(5 points)`\n",
        "\n",
        "- If a zero is in **num_list**, return **num_list**\n",
        "\n",
        "- If there are no zeroes in **num_list**, return **\"no zeros found\"**\n",
        "\n",
        "    **Expected Output:**\n",
        "\n",
        "    removeZeroes(num_list)\n",
        "\n",
        "    [2, 2, 1, 2, 3, 4, 5, 6]"
      ]
    },
    {
      "cell_type": "code",
      "execution_count": 1474,
      "metadata": {
        "id": "k1vAHUYuFehT"
      },
      "outputs": [],
      "source": [
        "# put your answer here\n",
        "def removeZeroes(num_list):\n",
        "    if 0 in num_list:\n",
        "        num_list = [x for x in num_list if x != 0]\n",
        "        return num_list\n",
        "    else:\n",
        "        return \"no zeros found\"\n"
      ]
    },
    {
      "cell_type": "code",
      "execution_count": 1475,
      "metadata": {},
      "outputs": [
        {
          "name": "stdout",
          "output_type": "stream",
          "text": [
            "Output: [2, 2, 2, 1, 3, 2, 5, 6]\n"
          ]
        }
      ],
      "source": [
        "num_list = [2, 0, 2, 2, 1, 0, 3, 2, 5, 6]\n",
        "result =removeZeroes(num_list)\n",
        "print(\"Output:\", result)"
      ]
    },
    {
      "cell_type": "markdown",
      "metadata": {
        "id": "SKAlpglNFehT"
      },
      "source": [
        "4. Insert a dash symbol between the 4th and 5th digit in **num_list**. `(5 points)`\n",
        "\n",
        "    **Expected Output:**\n",
        "\n",
        "    print(num_list)\n",
        "\n",
        "    [2, 0, 2, 2, \"-\", 1, 2, 3, 4, 5, 6]"
      ]
    },
    {
      "cell_type": "code",
      "execution_count": 1476,
      "metadata": {
        "id": "vF7fimZ-FehT"
      },
      "outputs": [],
      "source": [
        "# put your answer here\n",
        "num_list = [2, 0, 2, 2, 1, 0, 3, 2, 5, 6]"
      ]
    },
    {
      "cell_type": "code",
      "execution_count": 1477,
      "metadata": {},
      "outputs": [
        {
          "name": "stdout",
          "output_type": "stream",
          "text": [
            "Output: [2, 0, 2, 2, '_', 1, 0, 3, 2, 5, 6]\n"
          ]
        }
      ],
      "source": [
        "num_list.insert(4, \"_\")\n",
        "print(\"Output:\", num_list)"
      ]
    },
    {
      "cell_type": "markdown",
      "metadata": {
        "id": "KkC-LgdxFehT"
      },
      "source": [
        "## Stack"
      ]
    },
    {
      "cell_type": "code",
      "execution_count": 1478,
      "metadata": {
        "id": "UYTqB1u_FehU"
      },
      "outputs": [],
      "source": [
        "# Creating a stack\n",
        "def create_stack():\n",
        "    stack = []\n",
        "    return stack\n",
        "\n",
        "\n",
        "def print_stack(stack):\n",
        "\n",
        "    if (check_empty(stack)):\n",
        "        return \"stack is empty\"\n",
        "\n",
        "    # Create a copy of the stack and reverse the elements\n",
        "    tempStack = stack.copy()\n",
        "    tempStack.reverse()\n",
        "\n",
        "    # Print all elements using a loop\n",
        "    for i in tempStack:\n",
        "        print(i)\n",
        "\n",
        "    # Delete the copy to free up memory\n",
        "    del tempStack\n",
        "\n",
        "# Creating an empty stack\n",
        "\n",
        "\n",
        "def check_empty(stack):\n",
        "    return len(stack) == 0\n",
        "\n",
        "\n",
        "# Adding items into the stack\n",
        "def push(stack, item):\n",
        "    stack.append(item)\n",
        "    print(\"pushed item: \" + item)\n",
        "\n",
        "\n",
        "# Removing an element from the stack\n",
        "def pop(stack):\n",
        "    if (check_empty(stack)):\n",
        "        return \"stack is empty\"\n",
        "\n",
        "    return stack.pop()\n",
        "\n",
        "\n",
        "def peek(stack):\n",
        "\n",
        "    # Use negative indexing to display the last element of the list\n",
        "    print(stack[-1])"
      ]
    },
    {
      "cell_type": "markdown",
      "metadata": {
        "id": "wLAQchs8FehU"
      },
      "source": [
        "**Instructions** ❗️❗️\n",
        "\n",
        "Use the pre-defined stack class/functions to create a stack"
      ]
    },
    {
      "cell_type": "markdown",
      "metadata": {
        "id": "37cg9BoCFehU"
      },
      "source": [
        "1. Create two (2) stacks named **name_stack** and **num_stack** `(5 points)`\n",
        "\n",
        "- **name_stack** should contain all letters of your first name.\n",
        "- **num_stack** should contain all digits of your student number.\n",
        "\n",
        "    **Expected Output:**\n",
        "\n",
        "    print(name_stack)\n",
        "\n",
        "    ['E', 'L', 'I', 'Z', 'E', 'R']\n",
        "\n",
        "    print(num_stack)\n",
        "\n",
        "    [2,0,2,2,1,2,3,4,5,6]"
      ]
    },
    {
      "cell_type": "code",
      "execution_count": 1479,
      "metadata": {
        "id": "HlUIUQzQFehU"
      },
      "outputs": [],
      "source": [
        "# put your answer here\n",
        "name_stack = list(\"BRIX\")\n",
        "num_stack = [2, 0, 2, 2, 1, 0, 3, 2, 5, 6]"
      ]
    },
    {
      "cell_type": "code",
      "execution_count": 1480,
      "metadata": {},
      "outputs": [
        {
          "name": "stdout",
          "output_type": "stream",
          "text": [
            "Output: ['B', 'R', 'I', 'X']\n",
            "Output: [2, 0, 2, 2, 1, 0, 3, 2, 5, 6]\n"
          ]
        }
      ],
      "source": [
        "print(\"Output:\", name_stack)\n",
        "print(\"Output:\", num_stack)"
      ]
    },
    {
      "cell_type": "markdown",
      "metadata": {
        "id": "8cySe9LXFehU"
      },
      "source": [
        "2. Create a stack named **my_stack** that follows the following format: `(5 points)`\n",
        "\n",
        "- The first element should be the **5th digit in your student number**\n",
        "- The succeeding elements should be the letters of your **first name**\n",
        "- The last element should be the **last digit of your student number**\n",
        "\n",
        "    **Expected Output:**\n",
        "\n",
        "    my_stack = [1, E, L, I, Z, E, R, 6]"
      ]
    },
    {
      "cell_type": "code",
      "execution_count": 1481,
      "metadata": {
        "id": "bEnCoAhjFehU"
      },
      "outputs": [],
      "source": [
        "# put your answer here\n",
        "mmy_student_number = 2022103256\n",
        "name = \"BRIX\"\n"
      ]
    },
    {
      "cell_type": "code",
      "execution_count": 1482,
      "metadata": {},
      "outputs": [],
      "source": [
        "my_stack = [int(str(my_student_number)[4])] + list(name) + [int(str(my_student_number)[-1])]\n"
      ]
    },
    {
      "cell_type": "code",
      "execution_count": 1483,
      "metadata": {},
      "outputs": [
        {
          "name": "stdout",
          "output_type": "stream",
          "text": [
            "Output: [1, 'B', 'R', 'I', 'X', 6]\n"
          ]
        }
      ],
      "source": [
        "print(\"Output:\", my_stack)"
      ]
    },
    {
      "cell_type": "markdown",
      "metadata": {
        "id": "8a8_KP5nFehU"
      },
      "source": [
        "3. Write a `verifyStack()` function that will take in `my_stack` and check if its format has been followed `(10 points)`\n",
        "\n",
        "- Return **True** if the format has been followed\n",
        "- Return **False** if the format was not followed\n",
        "- Verify the format by checking the contents of **my_stack** with **name_stack** and **num_stack**\n",
        "\n",
        "    **Expected Output:**\n",
        "\n",
        "    my_stack = [1, E, L, I, Z, E, R, 6]\n",
        "\n",
        "    verifyStack(my_stack)\n",
        "\n",
        "    True\n",
        "\n",
        "    my_stack = [1, S, L, I, Z, E, R, 7]\n",
        "\n",
        "    verifyStack(my_stack)\n",
        "\n",
        "    False"
      ]
    },
    {
      "cell_type": "code",
      "execution_count": 1484,
      "metadata": {
        "id": "RdANSxD0FehU"
      },
      "outputs": [],
      "source": [
        "# put your answer here\n",
        "def verifyStack(my_stack):\n",
        "    \n",
        "    if my_stack[0] == int(str(my_student_number)[4]):\n",
        "    \n",
        "        if my_stack[-1] == int(str(my_student_number)[-1]):\n",
        "           \n",
        "            if my_stack[1:-1] == name_stack:\n",
        "                return True\n",
        "    return False\n",
        "\n",
        "my_student_number = 2022103456\n",
        "\n",
        "name_stack = list(\"BRIX\")\n"
      ]
    },
    {
      "cell_type": "code",
      "execution_count": 1485,
      "metadata": {},
      "outputs": [],
      "source": [
        "my_stack1 = [1, 'B', 'R', 'I', 'X', 6]\n",
        "my_stack2 = [1, 'H ','R', 'I', 'X', 7]"
      ]
    },
    {
      "cell_type": "code",
      "execution_count": 1486,
      "metadata": {},
      "outputs": [
        {
          "name": "stdout",
          "output_type": "stream",
          "text": [
            "verifyStack(my_stack1)Output: True\n",
            "verifyStack(my_stack2)Output: False\n"
          ]
        }
      ],
      "source": [
        "print(\"verifyStack(my_stack1)Output:\", verifyStack(my_stack1))\n",
        "print(\"verifyStack(my_stack2)Output:\", verifyStack(my_stack2))"
      ]
    },
    {
      "cell_type": "markdown",
      "metadata": {
        "id": "80OekpbeFehV"
      },
      "source": [
        "**Instructions** ❗️❗️\n",
        "\n",
        "Use the pre-defined queue class/functions to create a Queue"
      ]
    },
    {
      "cell_type": "markdown",
      "metadata": {
        "id": "_Hf0OP5cFehV"
      },
      "source": [
        "1. Create a simple queue named **num_queue** `(5 points)`\n",
        "\n",
        "- **num_queue** should contain all digits of your student number.\n",
        "\n",
        "    **Expected Output:**\n",
        "\n",
        "    print(num_queue)\n",
        "\n",
        "    [2,0,2,2,1,2,3,4,5,6]"
      ]
    },
    {
      "cell_type": "code",
      "execution_count": 1487,
      "metadata": {
        "id": "_mgmE4ArFehV"
      },
      "outputs": [
        {
          "name": "stdout",
          "output_type": "stream",
          "text": [
            "['2', '0', '2', '2', '1', '0', '3', '2', '5', '6']\n"
          ]
        }
      ],
      "source": [
        "# put your answer here\n",
        "# student_number = [2,0,2,2,1,0,3,2,5,6]\n",
        "\n",
        "num_queue = Queue()\n",
        "\n",
        "for i in range(len(student_number)):\n",
        "    num_queue.enqueue(str(student_number[i]))\n",
        "\n",
        "num_queue.display()"
      ]
    },
    {
      "cell_type": "markdown",
      "metadata": {
        "id": "1pHG8t6DFehV"
      },
      "source": [
        "2. Write a `getMax()` or `getMin()` function for **num_queue** `(5 points)`\n",
        "\n",
        "- If your student number ends with an odd number, create a `getMax()` function that will return the largest number in **num_queue**\n",
        "- If your student number ends with an even number, create a `getMin()` function that will return the lowest number in **num_queue**\n",
        "\n",
        "    **Expected Output for getMax():**\n",
        "\n",
        "    getMax(num_queue)\n",
        "\n",
        "    6\n",
        "\n",
        "    **Expected Output for getMin():**\n",
        "\n",
        "    getMin(num_queue)\n",
        "\n",
        "    0"
      ]
    },
    {
      "cell_type": "code",
      "execution_count": 1488,
      "metadata": {
        "id": "itj2U610FehV"
      },
      "outputs": [],
      "source": [
        "# put your answer here\n",
        "\n",
        "# student_number = [2,0,2,2,1,0,3,2,5,6]\n",
        "\n",
        "def getMax(num_queue):\n",
        "    max_number = num_queue.dequeue()\n",
        "\n",
        "    while num_queue.size() > 0:\n",
        "        num = num_queue.dequeue()\n",
        "        max_number = max(max_number, num)\n",
        "\n",
        "    return max_number\n"
      ]
    },
    {
      "cell_type": "code",
      "execution_count": 1489,
      "metadata": {},
      "outputs": [
        {
          "name": "stdout",
          "output_type": "stream",
          "text": [
            "Output: 6\n"
          ]
        }
      ],
      "source": [
        "largest_number = getMax(num_queue)\n",
        "print(\"Output:\", largest_number)"
      ]
    },
    {
      "cell_type": "markdown",
      "metadata": {
        "id": "YkgmP6GwFehV"
      },
      "source": [
        "3. Write a `getOdd()` or `getEven()` function for  **num_queue** `(5 points)`\n",
        "\n",
        "- If your student number ends with an **odd number**, create a `getOdd()` function that will return all odd numbers in **num_queue**\n",
        "- If your student number ends with an **even number**, create a `getEven()` function that will return all even numbers in **num_queue**\n",
        "\n",
        "    **Expected Output for getOdd():**\n",
        "\n",
        "    getOdd(num_queue)\n",
        "\n",
        "    [1, 3, 5]\n",
        "\n",
        "    **Expected Output for getEven():**\n",
        "\n",
        "    getEven(num_queue)\n",
        "\n",
        "    [0, 2, 4, 6]"
      ]
    },
    {
      "cell_type": "code",
      "execution_count": 1490,
      "metadata": {
        "id": "2Bc7E1zNFehV"
      },
      "outputs": [],
      "source": [
        "# put your answer here\n",
        "# student_number = [2,0,2,2,1,0,3,2,5,6]\n",
        "\n",
        "def getOdd(num_queue):\n",
        "    odd_numbers = []\n",
        "\n",
        "    while num_queue.size() > 0:\n",
        "        num = num_queue.dequeue()\n",
        "        if num % 2 != 0:\n",
        "            odd_numbers.append(num)\n",
        "    \n",
        "    return odd_numbers\n"
      ]
    },
    {
      "cell_type": "code",
      "execution_count": 1491,
      "metadata": {},
      "outputs": [
        {
          "name": "stdout",
          "output_type": "stream",
          "text": [
            "Output: [1, 3, 5]\n"
          ]
        }
      ],
      "source": [
        "print(\"Output:\", odd_digits)"
      ]
    },
    {
      "cell_type": "markdown",
      "metadata": {
        "id": "kuzWF5g4FehV"
      },
      "source": [
        "4. Write a `removeDup()` function that will remove all duplicates in **num_queue** `(5 points)`\n",
        "\n",
        "    **Expected Output:**\n",
        "\n",
        "    removeDup(num_queue)\n",
        "\n",
        "    [2,0,1,3,4,5,6]"
      ]
    },
    {
      "cell_type": "code",
      "execution_count": 1492,
      "metadata": {
        "id": "I8LeQP8MFehY"
      },
      "outputs": [],
      "source": [
        "# put your answer here\n",
        "\n",
        "\n",
        "def removeDup(num_queue):\n",
        "    well_defined_elements = set()\n",
        "\n",
        "    new_queue = Queue()\n",
        "\n",
        "    while num_queue.size() > 0:\n",
        "        num = num_queue.dequeue()\n",
        "\n",
        "        if num not in well_defined_elements:\n",
        "            well_defined_elements.add(num)\n",
        "            new_queue.enqueue(num)\n",
        "\n",
        "    return new_queue\n"
      ]
    },
    {
      "cell_type": "code",
      "execution_count": 1493,
      "metadata": {},
      "outputs": [
        {
          "name": "stdout",
          "output_type": "stream",
          "text": [
            "['2', '0', '1', '3', '5', '6']\n"
          ]
        }
      ],
      "source": [
        "for num in student_number:\n",
        "    num_queue.enqueue(num)\n",
        "\n",
        "new_queue = removeDup(num_queue)\n",
        "\n",
        "new_queue.display()"
      ]
    },
    {
      "cell_type": "markdown",
      "metadata": {
        "id": "LVfZTh8YFehZ"
      },
      "source": [
        "## Sort"
      ]
    },
    {
      "cell_type": "markdown",
      "metadata": {
        "id": "bm9lonfzFehZ"
      },
      "source": [
        "**Instructions** ❗️❗️\n",
        "\n",
        "Use the any sorting algoritms"
      ]
    },
    {
      "cell_type": "markdown",
      "metadata": {
        "id": "EJTlxhEdFehZ"
      },
      "source": [
        "1. Using any sorting algorithm, sort the **last 6 digits** of your student number in ascending order `(5 points)`\n",
        "\n",
        "    **Example:**\n",
        "\n",
        "    student_number = [2,0,2,2,6,2,5,1,3,4]\n",
        "\n",
        "    **Expected Output:**\n",
        "\n",
        "    print(student_number)\n",
        "\n",
        "    [2,0,2,2,1,2,3,4,5,6]\n"
      ]
    },
    {
      "cell_type": "code",
      "execution_count": 1494,
      "metadata": {
        "id": "MkZKfveOFehZ"
      },
      "outputs": [],
      "source": [
        "# put your answer here\n",
        "\n",
        "student_number = [2, 0, 2, 2, 1, 0, 3, 2, 5, 6]\n"
      ]
    },
    {
      "cell_type": "code",
      "execution_count": 1495,
      "metadata": {},
      "outputs": [],
      "source": [
        "last_six_digits = student_number[-6:]\n",
        "\n",
        "n = len(last_six_digits)\n",
        "for i in range(n - 1):\n",
        "    for j in range(0, n - i - 1):\n",
        "        if last_six_digits[j] > last_six_digits[j + 1]:\n",
        "            last_six_digits[j], last_six_digits[j + 1] = last_six_digits[j + 1], last_six_digits[j]\n",
        "\n",
        "student_number[-6:] = last_six_digits"
      ]
    },
    {
      "cell_type": "code",
      "execution_count": 1496,
      "metadata": {},
      "outputs": [
        {
          "name": "stdout",
          "output_type": "stream",
          "text": [
            "Output: [2, 0, 2, 2, 0, 1, 2, 3, 5, 6]\n"
          ]
        }
      ],
      "source": [
        "print(\"Output:\", student_number)"
      ]
    },
    {
      "cell_type": "markdown",
      "metadata": {
        "id": "sC2JZRZMFehZ"
      },
      "source": [
        "2. Using your student_number, separately sort the even numbers in **increasing order** and the odd numbers in **decreasing order** `(15 points)`\n",
        "\n",
        "    **Example:**\n",
        "\n",
        "    student_number = [2,0,2,2,1,2,3,4,5,6]\n",
        "\n",
        "    **Expected Output:**\n",
        "\n",
        "    print(student_number)\n",
        "\n",
        "    [0,2,2,2,2,4,6,5,3,1]"
      ]
    },
    {
      "cell_type": "code",
      "execution_count": 1497,
      "metadata": {
        "id": "hWOh_ohcFehZ"
      },
      "outputs": [],
      "source": [
        "# put your answer here\n",
        "\n",
        "# Sakit sa Ulo sir HAHAHAHHA\n",
        "\n",
        "student_number = [2, 0, 2, 2, 1, 0, 3, 2, 5, 6]\n"
      ]
    },
    {
      "cell_type": "code",
      "execution_count": 1498,
      "metadata": {},
      "outputs": [],
      "source": [
        "even_numbers = [x for x in student_number if x % 2 == 0]\n",
        "odd_numbers = [x for x in student_number if x % 2 != 0 ]"
      ]
    },
    {
      "cell_type": "code",
      "execution_count": 1499,
      "metadata": {},
      "outputs": [],
      "source": [
        "even_numbers = sorted(even_numbers)\n",
        "odd_numbers = sorted(odd_numbers, reverse=True)"
      ]
    },
    {
      "cell_type": "code",
      "execution_count": 1500,
      "metadata": {},
      "outputs": [
        {
          "name": "stdout",
          "output_type": "stream",
          "text": [
            "Output: [0, 0, 2, 2, 2, 2, 6, 5, 3, 1]\n"
          ]
        }
      ],
      "source": [
        "sorted_student_number = even_numbers + odd_numbers\n",
        "print(\"Output:\", sorted_student_number)"
      ]
    }
  ],
  "metadata": {
    "colab": {
      "provenance": []
    },
    "kernelspec": {
      "display_name": "Python 3",
      "language": "python",
      "name": "python3"
    },
    "language_info": {
      "codemirror_mode": {
        "name": "ipython",
        "version": 3
      },
      "file_extension": ".py",
      "mimetype": "text/x-python",
      "name": "python",
      "nbconvert_exporter": "python",
      "pygments_lexer": "ipython3",
      "version": "3.11.4"
    },
    "orig_nbformat": 4
  },
  "nbformat": 4,
  "nbformat_minor": 0
}
